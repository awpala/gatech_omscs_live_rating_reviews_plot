{
 "cells": [
  {
   "cell_type": "code",
   "execution_count": 1,
   "id": "27839a21",
   "metadata": {},
   "outputs": [],
   "source": [
    "#!pip install bs4\n",
    "#!pip install urllib\n",
    "#!pip install plotly"
   ]
  },
  {
   "cell_type": "markdown",
   "id": "3f5ba239",
   "metadata": {},
   "source": [
    "# Imports"
   ]
  },
  {
   "cell_type": "code",
   "execution_count": 2,
   "id": "cb8a0df4",
   "metadata": {},
   "outputs": [],
   "source": [
    "# libraries for webscraping, parsing and getting data\n",
    "from urllib.request import urlopen, Request\n",
    "from bs4 import BeautifulSoup\n",
    "import json\n",
    "\n",
    "# for plotting and data manipulation\n",
    "import pandas as pd\n",
    "import matplotlib.pyplot as plt\n",
    "%matplotlib inline\n",
    "import plotly\n",
    "import plotly.express as px\n",
    "\n",
    "# for getting current date and time to print 'last updated' in webpage\n",
    "from datetime import datetime"
   ]
  },
  {
   "cell_type": "markdown",
   "id": "9d64d826",
   "metadata": {},
   "source": [
    "# Scrape the Course Reviews Data\n",
    "\n",
    "Data scraped from OMS Central\n",
    "\n",
    "Explanation of data scraping available here: \n",
    "https://medium.datadriveninvestor.com/sentiment-analysis-of-stocks-from-financial-news-using-python-82ebdcefb638"
   ]
  },
  {
   "cell_type": "code",
   "execution_count": 3,
   "id": "103cf6a8",
   "metadata": {},
   "outputs": [],
   "source": [
    "url = 'https://www.omscentral.com/'\n",
    "\n",
    "req = Request(url=url,headers={'User-Agent': 'Mozilla/5.0 (Windows NT 6.1; WOW64; rv:20.0) Gecko/20100101 Firefox/20.0'})\n",
    "\n",
    "try:\n",
    "    response = urlopen(req)   \n",
    "except:\n",
    "    time.sleep(10) # if there is an error and request is blocked, do it more slowly by waiting for 10 seconds before requesting again\n",
    "    response = urlopen(req)  \n",
    "        \n",
    "# Read the contents of the file into 'html'\n",
    "html = BeautifulSoup(response)"
   ]
  },
  {
   "cell_type": "markdown",
   "id": "f5503cac",
   "metadata": {},
   "source": [
    "# Parse JSON Data\n",
    "\n",
    "The course data is in JavaScript (between <script> tags at the bottom of the HTML code), in JSON format. Parse it and convert it to DataFrame."
   ]
  },
  {
   "cell_type": "code",
   "execution_count": 4,
   "id": "d6caed69",
   "metadata": {
    "scrolled": true
   },
   "outputs": [
    {
     "data": {
      "text/plain": [
       "[{'_createdAt': '2022-08-15T14:49:24Z',\n",
       "  '_id': '26e53feb-fbd0-4233-8218-dfb7f56cc46d',\n",
       "  '_rev': '959qsafI8uoLDPJeciuflB',\n",
       "  '_type': 'course',\n",
       "  '_updatedAt': '2022-08-25T21:43:35Z',\n",
       "  'codes': ['CS-8803-O13'],\n",
       "  'creditHours': 3,\n",
       "  'description': 'The goal of this course is to provide students in CS and ECE with the fundamental background on quantum computing and equip them with the skills to write code and optimize quantum programs on real quantum computers.',\n",
       "  'id': '26e53feb-fbd0-4233-8218-dfb7f56cc46d',\n",
       "  'isDeprecated': False,\n",
       "  'isFoundational': True,\n",
       "  'name': 'Special Topics: Quantum Computing',\n",
       "  'officialURL': 'https://omscs.gatech.edu/cs-8803-o13-quantum-computing',\n",
       "  'programs': [{'_key': 'd21a69086f85',\n",
       "    '_ref': 'b6f2bf84-c2ea-405e-8423-c348e1a94051',\n",
       "    '_type': 'reference'}],\n",
       "  'slug': 'special-topics-quantum-computing',\n",
       "  'syllabus': {'file': {'_type': 'file',\n",
       "    'asset': {'_ref': 'file-f921a6a8952de8270a8002e7cdd20e798252a800-pdf',\n",
       "     '_type': 'reference'}}},\n",
       "  'tags': ['QC'],\n",
       "  'textbooks': [{'_key': '2f5517a7bba6eb4a7b282b9e884f13e8',\n",
       "    'name': 'Quantum Computing: A Gentle Introduction',\n",
       "    'url': 'https://amzn.to/3Tjt5pV'}],\n",
       "  'reviewCount': 2,\n",
       "  'rating': 3,\n",
       "  'difficulty': 3,\n",
       "  'workload': 15},\n",
       " {'_createdAt': '2022-08-19T21:31:17Z',\n",
       "  '_id': '270c4d16-25dd-4f69-9e41-b50e73ed74e2',\n",
       "  '_rev': 'vLev53Cwnp4JOI2CCHppWQ',\n",
       "  '_type': 'course',\n",
       "  '_updatedAt': '2022-08-24T17:42:05Z',\n",
       "  'codes': ['CS-8001-OSO'],\n",
       "  'creditHours': 1,\n",
       "  'id': '270c4d16-25dd-4f69-9e41-b50e73ed74e2',\n",
       "  'isDeprecated': False,\n",
       "  'isFoundational': False,\n",
       "  'name': 'Seminar: Computational Sociology Seminar',\n",
       "  'programs': [{'_key': '888bee183d55',\n",
       "    '_ref': 'b6f2bf84-c2ea-405e-8423-c348e1a94051',\n",
       "    '_type': 'reference'}],\n",
       "  'slug': 'seminar-computational-sociology-seminar',\n",
       "  'reviewCount': 0}]"
      ]
     },
     "execution_count": 4,
     "metadata": {},
     "output_type": "execute_result"
    }
   ],
   "source": [
    "# Find the data in between the final <script> tags in the website\n",
    "raw = html.find_all(\"script\")[-1]\n",
    "\n",
    "json_text = raw.text\n",
    "\n",
    "# Load the relevant part of the data\n",
    "parsed = json.loads(json_text)['props']['pageProps']['courses']\n",
    "\n",
    "parsed[:2]"
   ]
  },
  {
   "cell_type": "code",
   "execution_count": 5,
   "id": "9708e311",
   "metadata": {},
   "outputs": [
    {
     "data": {
      "text/html": [
       "<div>\n",
       "<style scoped>\n",
       "    .dataframe tbody tr th:only-of-type {\n",
       "        vertical-align: middle;\n",
       "    }\n",
       "\n",
       "    .dataframe tbody tr th {\n",
       "        vertical-align: top;\n",
       "    }\n",
       "\n",
       "    .dataframe thead th {\n",
       "        text-align: right;\n",
       "    }\n",
       "</style>\n",
       "<table border=\"1\" class=\"dataframe\">\n",
       "  <thead>\n",
       "    <tr style=\"text-align: right;\">\n",
       "      <th></th>\n",
       "      <th>_createdAt</th>\n",
       "      <th>_id</th>\n",
       "      <th>_rev</th>\n",
       "      <th>_type</th>\n",
       "      <th>_updatedAt</th>\n",
       "      <th>codes</th>\n",
       "      <th>creditHours</th>\n",
       "      <th>description</th>\n",
       "      <th>id</th>\n",
       "      <th>isDeprecated</th>\n",
       "      <th>...</th>\n",
       "      <th>programs</th>\n",
       "      <th>slug</th>\n",
       "      <th>syllabus</th>\n",
       "      <th>tags</th>\n",
       "      <th>textbooks</th>\n",
       "      <th>reviewCount</th>\n",
       "      <th>rating</th>\n",
       "      <th>difficulty</th>\n",
       "      <th>workload</th>\n",
       "      <th>notesURL</th>\n",
       "    </tr>\n",
       "  </thead>\n",
       "  <tbody>\n",
       "    <tr>\n",
       "      <th>0</th>\n",
       "      <td>2022-08-15T14:49:24Z</td>\n",
       "      <td>26e53feb-fbd0-4233-8218-dfb7f56cc46d</td>\n",
       "      <td>959qsafI8uoLDPJeciuflB</td>\n",
       "      <td>course</td>\n",
       "      <td>2022-08-25T21:43:35Z</td>\n",
       "      <td>[CS-8803-O13]</td>\n",
       "      <td>3</td>\n",
       "      <td>The goal of this course is to provide students...</td>\n",
       "      <td>26e53feb-fbd0-4233-8218-dfb7f56cc46d</td>\n",
       "      <td>False</td>\n",
       "      <td>...</td>\n",
       "      <td>[{'_key': 'd21a69086f85', '_ref': 'b6f2bf84-c2...</td>\n",
       "      <td>special-topics-quantum-computing</td>\n",
       "      <td>{'file': {'_type': 'file', 'asset': {'_ref': '...</td>\n",
       "      <td>[QC]</td>\n",
       "      <td>[{'_key': '2f5517a7bba6eb4a7b282b9e884f13e8', ...</td>\n",
       "      <td>2</td>\n",
       "      <td>3.0</td>\n",
       "      <td>3.0</td>\n",
       "      <td>15.0</td>\n",
       "      <td>NaN</td>\n",
       "    </tr>\n",
       "    <tr>\n",
       "      <th>1</th>\n",
       "      <td>2022-08-19T21:31:17Z</td>\n",
       "      <td>270c4d16-25dd-4f69-9e41-b50e73ed74e2</td>\n",
       "      <td>vLev53Cwnp4JOI2CCHppWQ</td>\n",
       "      <td>course</td>\n",
       "      <td>2022-08-24T17:42:05Z</td>\n",
       "      <td>[CS-8001-OSO]</td>\n",
       "      <td>1</td>\n",
       "      <td>NaN</td>\n",
       "      <td>270c4d16-25dd-4f69-9e41-b50e73ed74e2</td>\n",
       "      <td>False</td>\n",
       "      <td>...</td>\n",
       "      <td>[{'_key': '888bee183d55', '_ref': 'b6f2bf84-c2...</td>\n",
       "      <td>seminar-computational-sociology-seminar</td>\n",
       "      <td>NaN</td>\n",
       "      <td>NaN</td>\n",
       "      <td>NaN</td>\n",
       "      <td>0</td>\n",
       "      <td>NaN</td>\n",
       "      <td>NaN</td>\n",
       "      <td>NaN</td>\n",
       "      <td>NaN</td>\n",
       "    </tr>\n",
       "    <tr>\n",
       "      <th>2</th>\n",
       "      <td>2022-08-19T21:55:21Z</td>\n",
       "      <td>28df9ae9-8ade-4b02-bd5a-5506544b33f0</td>\n",
       "      <td>959qsafI8uoLDPJecfUter</td>\n",
       "      <td>course</td>\n",
       "      <td>2022-08-24T17:43:44Z</td>\n",
       "      <td>[PUBP-8813]</td>\n",
       "      <td>3</td>\n",
       "      <td>NaN</td>\n",
       "      <td>28df9ae9-8ade-4b02-bd5a-5506544b33f0</td>\n",
       "      <td>False</td>\n",
       "      <td>...</td>\n",
       "      <td>[{'_key': '15388d856ed7', '_ref': 'c647cd7c-c8...</td>\n",
       "      <td>special-topics-digital-public-policy</td>\n",
       "      <td>NaN</td>\n",
       "      <td>NaN</td>\n",
       "      <td>NaN</td>\n",
       "      <td>0</td>\n",
       "      <td>NaN</td>\n",
       "      <td>NaN</td>\n",
       "      <td>NaN</td>\n",
       "      <td>NaN</td>\n",
       "    </tr>\n",
       "    <tr>\n",
       "      <th>3</th>\n",
       "      <td>2022-08-19T21:30:48Z</td>\n",
       "      <td>449cba43-6f4c-4fa3-8e5f-09b6ad89429d</td>\n",
       "      <td>vLev53Cwnp4JOI2CCHptei</td>\n",
       "      <td>course</td>\n",
       "      <td>2022-08-24T17:42:19Z</td>\n",
       "      <td>[CS-8001-OED]</td>\n",
       "      <td>1</td>\n",
       "      <td>NaN</td>\n",
       "      <td>449cba43-6f4c-4fa3-8e5f-09b6ad89429d</td>\n",
       "      <td>False</td>\n",
       "      <td>...</td>\n",
       "      <td>[{'_key': '0bfdb161452e', '_ref': 'b6f2bf84-c2...</td>\n",
       "      <td>seminar-cs-educators-seminar</td>\n",
       "      <td>NaN</td>\n",
       "      <td>NaN</td>\n",
       "      <td>NaN</td>\n",
       "      <td>0</td>\n",
       "      <td>NaN</td>\n",
       "      <td>NaN</td>\n",
       "      <td>NaN</td>\n",
       "      <td>NaN</td>\n",
       "    </tr>\n",
       "    <tr>\n",
       "      <th>4</th>\n",
       "      <td>2022-08-19T21:40:20Z</td>\n",
       "      <td>5cbd1444-ec69-4092-82b0-2d9ccf39ec6c</td>\n",
       "      <td>vLev53Cwnp4JOI2CCHkcVA</td>\n",
       "      <td>course</td>\n",
       "      <td>2022-08-24T17:23:30Z</td>\n",
       "      <td>[ECE-6374]</td>\n",
       "      <td>3</td>\n",
       "      <td>This course provides an introduction to cyber-...</td>\n",
       "      <td>5cbd1444-ec69-4092-82b0-2d9ccf39ec6c</td>\n",
       "      <td>False</td>\n",
       "      <td>...</td>\n",
       "      <td>[{'_key': 'e05818d20c8d', '_ref': 'c647cd7c-c8...</td>\n",
       "      <td>cyber-physical-security-in-electric-energy-sys...</td>\n",
       "      <td>NaN</td>\n",
       "      <td>NaN</td>\n",
       "      <td>NaN</td>\n",
       "      <td>0</td>\n",
       "      <td>NaN</td>\n",
       "      <td>NaN</td>\n",
       "      <td>NaN</td>\n",
       "      <td>NaN</td>\n",
       "    </tr>\n",
       "  </tbody>\n",
       "</table>\n",
       "<p>5 rows × 23 columns</p>\n",
       "</div>"
      ],
      "text/plain": [
       "             _createdAt                                   _id  \\\n",
       "0  2022-08-15T14:49:24Z  26e53feb-fbd0-4233-8218-dfb7f56cc46d   \n",
       "1  2022-08-19T21:31:17Z  270c4d16-25dd-4f69-9e41-b50e73ed74e2   \n",
       "2  2022-08-19T21:55:21Z  28df9ae9-8ade-4b02-bd5a-5506544b33f0   \n",
       "3  2022-08-19T21:30:48Z  449cba43-6f4c-4fa3-8e5f-09b6ad89429d   \n",
       "4  2022-08-19T21:40:20Z  5cbd1444-ec69-4092-82b0-2d9ccf39ec6c   \n",
       "\n",
       "                     _rev   _type            _updatedAt          codes  \\\n",
       "0  959qsafI8uoLDPJeciuflB  course  2022-08-25T21:43:35Z  [CS-8803-O13]   \n",
       "1  vLev53Cwnp4JOI2CCHppWQ  course  2022-08-24T17:42:05Z  [CS-8001-OSO]   \n",
       "2  959qsafI8uoLDPJecfUter  course  2022-08-24T17:43:44Z    [PUBP-8813]   \n",
       "3  vLev53Cwnp4JOI2CCHptei  course  2022-08-24T17:42:19Z  [CS-8001-OED]   \n",
       "4  vLev53Cwnp4JOI2CCHkcVA  course  2022-08-24T17:23:30Z     [ECE-6374]   \n",
       "\n",
       "   creditHours                                        description  \\\n",
       "0            3  The goal of this course is to provide students...   \n",
       "1            1                                                NaN   \n",
       "2            3                                                NaN   \n",
       "3            1                                                NaN   \n",
       "4            3  This course provides an introduction to cyber-...   \n",
       "\n",
       "                                     id  isDeprecated  ...  \\\n",
       "0  26e53feb-fbd0-4233-8218-dfb7f56cc46d         False  ...   \n",
       "1  270c4d16-25dd-4f69-9e41-b50e73ed74e2         False  ...   \n",
       "2  28df9ae9-8ade-4b02-bd5a-5506544b33f0         False  ...   \n",
       "3  449cba43-6f4c-4fa3-8e5f-09b6ad89429d         False  ...   \n",
       "4  5cbd1444-ec69-4092-82b0-2d9ccf39ec6c         False  ...   \n",
       "\n",
       "                                            programs  \\\n",
       "0  [{'_key': 'd21a69086f85', '_ref': 'b6f2bf84-c2...   \n",
       "1  [{'_key': '888bee183d55', '_ref': 'b6f2bf84-c2...   \n",
       "2  [{'_key': '15388d856ed7', '_ref': 'c647cd7c-c8...   \n",
       "3  [{'_key': '0bfdb161452e', '_ref': 'b6f2bf84-c2...   \n",
       "4  [{'_key': 'e05818d20c8d', '_ref': 'c647cd7c-c8...   \n",
       "\n",
       "                                                slug  \\\n",
       "0                   special-topics-quantum-computing   \n",
       "1            seminar-computational-sociology-seminar   \n",
       "2               special-topics-digital-public-policy   \n",
       "3                       seminar-cs-educators-seminar   \n",
       "4  cyber-physical-security-in-electric-energy-sys...   \n",
       "\n",
       "                                            syllabus  tags  \\\n",
       "0  {'file': {'_type': 'file', 'asset': {'_ref': '...  [QC]   \n",
       "1                                                NaN   NaN   \n",
       "2                                                NaN   NaN   \n",
       "3                                                NaN   NaN   \n",
       "4                                                NaN   NaN   \n",
       "\n",
       "                                           textbooks reviewCount rating  \\\n",
       "0  [{'_key': '2f5517a7bba6eb4a7b282b9e884f13e8', ...           2    3.0   \n",
       "1                                                NaN           0    NaN   \n",
       "2                                                NaN           0    NaN   \n",
       "3                                                NaN           0    NaN   \n",
       "4                                                NaN           0    NaN   \n",
       "\n",
       "  difficulty  workload  notesURL  \n",
       "0        3.0      15.0       NaN  \n",
       "1        NaN       NaN       NaN  \n",
       "2        NaN       NaN       NaN  \n",
       "3        NaN       NaN       NaN  \n",
       "4        NaN       NaN       NaN  \n",
       "\n",
       "[5 rows x 23 columns]"
      ]
     },
     "execution_count": 5,
     "metadata": {},
     "output_type": "execute_result"
    }
   ],
   "source": [
    "raw_df = pd.DataFrame(parsed)\n",
    "raw_df.head()"
   ]
  },
  {
   "cell_type": "markdown",
   "id": "ed1ad075",
   "metadata": {},
   "source": [
    "# Some Data Cleaning\n",
    "\n",
    "Refer to comments within the code for the data cleaning steps."
   ]
  },
  {
   "cell_type": "code",
   "execution_count": null,
   "id": "38d5c12d",
   "metadata": {},
   "outputs": [],
   "source": [
    "# The 'codes' column of the courses consists of lists instead of strings, extract the element in the list into a list.\n",
    "raw_df['code'] = raw_df['codes'].apply(lambda x: x[0])\n",
    "\n",
    "# The first part of the course code (before the - sign) can be extracted as the department.\n",
    "raw_df['dept'] = raw_df['code'].apply(lambda x: x.split('-')[0])\n",
    "\n",
    "# Generate own tag using first letter of each capitalized word in the name as some courses are without tags\n",
    "raw_df['tag'] = raw_df['name'].apply(lambda x: ''.join([word[0] for word in x.split() if word[0].isupper()]))\n",
    "\n",
    "# Some courses already have tags stored in the form of a list, for simplicity, extract the first element of the list to as the tag\n",
    "for i, row in raw_df.iterrows():\n",
    "    if isinstance(row['tags'], list):\n",
    "        if len(row['tags']) > 0:\n",
    "            raw_df.at[i,'tag'] = row['tags'][0]  \n",
    "raw_df.head()"
   ]
  },
  {
   "cell_type": "code",
   "execution_count": null,
   "id": "c04ce143",
   "metadata": {},
   "outputs": [],
   "source": [
    "raw_df.info()"
   ]
  },
  {
   "cell_type": "markdown",
   "id": "96b4b343",
   "metadata": {},
   "source": [
    "We only want data with reviews. Also Distributed Computing has a workload of over 60 hours which is almost thrice that of the course with the second highest workload, this skews the scale when plotting the graph below hence I have adjusted it below."
   ]
  },
  {
   "cell_type": "code",
   "execution_count": null,
   "id": "d8590b5d",
   "metadata": {},
   "outputs": [],
   "source": [
    "df = raw_df[raw_df['reviewCount'] > 0]\n",
    "\n",
    "# distributed computing has a ridiculously high amt of workload\n",
    "#  so it is replaced with the same amount of workload as the second highest one\n",
    "df.loc[df[\"tag\"] == \"DC\", 'workload'] = 0 \n",
    "df.loc[df[\"tag\"] == \"DC\", 'workload'] = df[\"workload\"].max()\n",
    "\n",
    "df = df[['name', 'tag', 'dept', 'code', 'description', 'reviewCount', 'rating', 'difficulty', 'workload']]\n",
    "df"
   ]
  },
  {
   "cell_type": "markdown",
   "id": "94a9d1cd",
   "metadata": {},
   "source": [
    "Additionally you may choose to filter data with minimum review of 10 or change it."
   ]
  },
  {
   "cell_type": "code",
   "execution_count": null,
   "id": "c29b2911",
   "metadata": {},
   "outputs": [],
   "source": [
    "min_review_count = 5\n",
    "\n",
    "df_plot = df[df['reviewCount'] >= min_review_count]"
   ]
  },
  {
   "cell_type": "markdown",
   "id": "505373ca",
   "metadata": {},
   "source": [
    "# OMSCS Course Rating and Difficulty Plot (size = Review Count, color = Workload)"
   ]
  },
  {
   "cell_type": "code",
   "execution_count": null,
   "id": "d05f45df",
   "metadata": {},
   "outputs": [],
   "source": [
    "fig_scatter1 = px.scatter(df_plot, x=\"difficulty\", y=\"rating\", \n",
    "                 hover_data=['name', 'reviewCount'], text='tag', size='reviewCount', color='workload')\n",
    "fig_scatter1.update_traces(textposition='top center')\n",
    "fig_scatter1.add_vline(x=df_plot[\"difficulty\"].mean(), line_width=0.5, annotation_text = 'Mean Difficulty')\n",
    "fig_scatter1.add_hline(y=df_plot[\"rating\"].mean(), line_width=0.5, annotation_text = 'Mean Rating')\n",
    "fig_scatter1.update_layout(\n",
    "    title=\"OMSCS Course Rating and Difficulty (size = Review Count, color = Workload)\",\n",
    "    xaxis_title=\"Difficulty\",\n",
    "    yaxis_title=\"Rating\",\n",
    "    height=800,\n",
    "    font=dict(\n",
    "        size=10\n",
    "    )\n",
    ")\n",
    "fig_scatter1.show()"
   ]
  },
  {
   "cell_type": "markdown",
   "id": "6e4bf9f3",
   "metadata": {},
   "source": [
    "# OMSCS Course Workload and Difficulty Plot (size = Review Count, color = Workload)"
   ]
  },
  {
   "cell_type": "code",
   "execution_count": null,
   "id": "e0290136",
   "metadata": {},
   "outputs": [],
   "source": [
    "fig_scatter2 = px.scatter(df_plot, x=\"difficulty\", y=\"workload\", \n",
    "                 hover_data=['name', 'reviewCount'], text='tag', size='reviewCount', color='rating')\n",
    "fig_scatter2.update_traces(textposition='top center')\n",
    "fig_scatter2.add_vline(x=df_plot[\"difficulty\"].mean(), line_width=0.5, annotation_text = 'Mean Difficulty')\n",
    "fig_scatter2.add_hline(y=df_plot[\"workload\"].mean(), line_width=0.5, annotation_text = 'Mean Workload')\n",
    "fig_scatter2.update_layout(\n",
    "    title=\"OMSCS Course Workload and Difficulty (size = Review Count, color = Rating)\",\n",
    "    xaxis_title=\"Difficulty\",\n",
    "    yaxis_title=\"Workload\",\n",
    "    height=800,\n",
    "    font=dict(\n",
    "        size=10\n",
    "    )\n",
    ")\n",
    "fig_scatter2.show()"
   ]
  },
  {
   "cell_type": "markdown",
   "id": "951e7a4f",
   "metadata": {},
   "source": [
    "# Treemap Plot of Course Rating"
   ]
  },
  {
   "cell_type": "code",
   "execution_count": null,
   "id": "b81d9516",
   "metadata": {},
   "outputs": [],
   "source": [
    "# group data into department at the highest level, breaks it down into courses\n",
    "# the 'values' parameter uses the value of the column to determine the relative size of each box in the chart\n",
    "# the color of the chart follows the course rating\n",
    "df_plot['label'] = df_plot['tag'] + '<br><br>' + df_plot['rating'].apply(lambda x:str(round(x, 3)))\n",
    "fig_treemap1 = px.treemap(df_plot, path=[px.Constant(\"OMSCS Course Rating\"), 'dept', 'label'], values='reviewCount',\n",
    "                  color='rating', hover_data=['name', 'difficulty'],\n",
    "                  color_continuous_scale=['#FF0000', \"#000000\", '#00FF00'])\n",
    "\n",
    "fig_treemap1.update_traces(textposition=\"middle center\")\n",
    "fig_treemap1.update_layout(margin = dict(t=30, l=10, r=10, b=10), font_size=20)\n",
    "\n",
    "fig_treemap1.show()"
   ]
  },
  {
   "cell_type": "markdown",
   "id": "8b2ea7ed",
   "metadata": {},
   "source": [
    "# Treemap Plot of Course Difficulty"
   ]
  },
  {
   "cell_type": "code",
   "execution_count": null,
   "id": "ed2e06fe",
   "metadata": {},
   "outputs": [],
   "source": [
    "# group data into department at the highest level, breaks it down into courses\n",
    "# the 'values' parameter uses the value of the column to determine the relative size of each box in the chart\n",
    "# the color of the chart follows the course difficulty\n",
    "df_plot['label'] = df_plot['tag'] + '<br><br>' + df_plot['difficulty'].apply(lambda x:str(round(x, 3)))\n",
    "fig_treemap2 = px.treemap(df_plot, path=[px.Constant(\"OMSCS Course Difficulty\"), 'dept', 'label'], values='reviewCount',\n",
    "                  color='difficulty', hover_data=['name', 'rating'],\n",
    "                  color_continuous_scale=['#FF0000', \"#000000\", '#00FF00'])\n",
    "\n",
    "fig_treemap2.update_traces(textposition=\"middle center\")\n",
    "fig_treemap2.update_layout(margin = dict(t=30, l=10, r=10, b=10), font_size=20)\n",
    "\n",
    "fig_treemap2.show()"
   ]
  },
  {
   "cell_type": "markdown",
   "id": "8d4cfc24",
   "metadata": {},
   "source": [
    "# Histogram Plots to Show Distributions"
   ]
  },
  {
   "cell_type": "code",
   "execution_count": null,
   "id": "26d8e2fc",
   "metadata": {},
   "outputs": [],
   "source": [
    "fig_hist1 = px.histogram(df_plot, x='workload', nbins=30, title='Workload Distribution')\n",
    "fig_hist1.update_layout(\n",
    "    width=800\n",
    ")\n",
    "fig_hist1.show()"
   ]
  },
  {
   "cell_type": "code",
   "execution_count": null,
   "id": "3564a78c",
   "metadata": {},
   "outputs": [],
   "source": [
    "fig_hist2 = px.histogram(df_plot, x='rating', nbins=30, title='Rating Distribution')\n",
    "fig_hist2.update_layout(\n",
    "    width=800\n",
    ")\n",
    "fig_hist2.show()"
   ]
  },
  {
   "cell_type": "code",
   "execution_count": null,
   "id": "898c303f",
   "metadata": {},
   "outputs": [],
   "source": [
    "fig_hist3 = px.histogram(df_plot, x='difficulty', nbins=30, title='Difficulty Distribution')\n",
    "fig_hist3.update_layout(\n",
    "    width=800\n",
    ")\n",
    "fig_hist3.show()"
   ]
  },
  {
   "cell_type": "markdown",
   "id": "e2f5f641",
   "metadata": {},
   "source": [
    "# Correlation Heatmap"
   ]
  },
  {
   "cell_type": "code",
   "execution_count": null,
   "id": "e87ac292",
   "metadata": {},
   "outputs": [],
   "source": [
    "fig_corr = px.imshow(df[['rating', 'difficulty', 'workload']].corr(), text_auto = True, title = 'Correlation')\n",
    "fig_corr.show()"
   ]
  },
  {
   "cell_type": "markdown",
   "id": "75274224",
   "metadata": {},
   "source": [
    "# Generated the HTML Page\n",
    "\n",
    "The HTML page of the figures above is generated with the \"time updated\" info.\n",
    "\n",
    "Not all the figures above are included below, feel free to change the code to include any figure that you may like."
   ]
  },
  {
   "cell_type": "code",
   "execution_count": null,
   "id": "20ae2e1f",
   "metadata": {},
   "outputs": [],
   "source": [
    "# datetime object containing current date and time\n",
    "now = datetime.now()\n",
    "dt_string = now.strftime(\"%d/%m/%Y %H:%M:%S\")\n",
    "timezone_string = datetime.now().astimezone().tzname()\n",
    "print(dt_string, timezone_string)"
   ]
  },
  {
   "cell_type": "code",
   "execution_count": null,
   "id": "f5ebd68f",
   "metadata": {},
   "outputs": [],
   "source": [
    "with open('omscs_courses_rating_difficulty.html', 'a') as f:\n",
    "    f.truncate(0) # clear file if something is already written on it\n",
    "    title = \"<h1>Gerogia Tech OMSCS</h1><h2>Summary of Course Difficulty and Rating</h2>\"\n",
    "    updated = \"<h3>Last updated: \" + dt_string + \" (Timezone: \" + timezone_string + \")</h3>\"\n",
    "    description = \"The data is pulled from <a href='https://www.omscentral.com/'>OMSCentral</a> daily via a GitHub Actions script to update the summary information in this page.<br><br>\"\n",
    "    credits = \"Credits to <a href='https://www.omscentral.com/'>OMSCentral</a> for the information, review and rating of the courses. I do not own any of this data.\"\n",
    "    subtitle = \"<h3>Explanation and Source Code</h3>\"\n",
    "    code = \"\"\"<a href=\"https://medium.com/datadriveninvestor/use-github-actions-to-create-a-live-stock-sentiment-dashboard-online-580a08457650\">Explanatory Article</a> | <a href=\"https://github.com/damianboh/gatech_omscs_live_rating_reviews_plot\">Source Code</a>\"\"\"\n",
    "    author = \"\"\" | Created by Damian Boh, check out my <a href=\"https://damianboh.github.io/\">GitHub Page</a>\"\"\"\n",
    "   \n",
    "    f.write(title + updated + description + credits + subtitle + code + author)\n",
    "    f.write(fig_scatter1.to_html(full_html=False, include_plotlyjs='cdn')) # write the fig created above into the html file\n",
    "    f.write(fig_scatter2.to_html(full_html=False, include_plotlyjs='cdn')) # write the fig created above into the html file\n",
    "    f.write(fig_treemap1.to_html(full_html=False, include_plotlyjs='cdn')) # write the fig created above into the html file\n",
    "    f.write(fig_treemap2.to_html(full_html=False, include_plotlyjs='cdn')) # write the fig created above into the html file\n",
    "    f.write(fig_hist1.to_html(full_html=False, include_plotlyjs='cdn')) # write the fig created above into the html file\n",
    "    f.write(fig_hist2.to_html(full_html=False, include_plotlyjs='cdn')) # write the fig created above into the html file\n",
    "    f.write(fig_hist3.to_html(full_html=False, include_plotlyjs='cdn')) # write the fig created above into the html file\n",
    "    f.write(fig_corr.to_html(full_html=False, include_plotlyjs='cdn')) # write the fig created above into the html file"
   ]
  },
  {
   "cell_type": "code",
   "execution_count": null,
   "id": "652663a5",
   "metadata": {},
   "outputs": [],
   "source": []
  }
 ],
 "metadata": {
  "kernelspec": {
   "display_name": "Python 3 (ipykernel)",
   "language": "python",
   "name": "python3"
  },
  "language_info": {
   "codemirror_mode": {
    "name": "ipython",
    "version": 3
   },
   "file_extension": ".py",
   "mimetype": "text/x-python",
   "name": "python",
   "nbconvert_exporter": "python",
   "pygments_lexer": "ipython3",
   "version": "3.8.10"
  }
 },
 "nbformat": 4,
 "nbformat_minor": 5
}
